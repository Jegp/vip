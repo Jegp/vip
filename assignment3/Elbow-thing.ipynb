{
 "cells": [
  {
   "cell_type": "code",
   "execution_count": null,
   "metadata": {
    "collapsed": true
   },
   "outputs": [],
   "source": [
    "import matplotlib.pyplot as plt\n",
    "import numpy as np\n",
    "\n",
    "def finding_elbow(data, minimum=100,maximum=110):\n",
    "    x_axis = []\n",
    "    y_axis = []\n",
    "    for i in range(minimum,maximum):\n",
    "        kmeans = KMeans(n_clusters = i)\n",
    "        kmeans.fit(des)\n",
    "        \n",
    "        x_axis.append(i)\n",
    "        y_axis.append(kmeans.inertia_)\n",
    "        return x_axis, y_axis\n",
    "\n",
    "x,y = finding_elbow(des)\n",
    "plt.plot(x, y, linewidth=2.0)\n",
    "plt.show()"
   ]
  }
 ],
 "metadata": {
  "anaconda-cloud": {},
  "kernelspec": {
   "display_name": "Python [python2]",
   "language": "python",
   "name": "Python [python2]"
  },
  "language_info": {
   "codemirror_mode": {
    "name": "ipython",
    "version": 2
   },
   "file_extension": ".py",
   "mimetype": "text/x-python",
   "name": "python",
   "nbconvert_exporter": "python",
   "pygments_lexer": "ipython2",
   "version": "2.7.12"
  }
 },
 "nbformat": 4,
 "nbformat_minor": 1
}
